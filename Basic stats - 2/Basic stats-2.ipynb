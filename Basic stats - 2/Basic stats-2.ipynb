{
 "cells": [
  {
   "cell_type": "code",
   "execution_count": 9,
   "id": "c55f3eac-e40e-48ea-9207-d0e026a8c09e",
   "metadata": {},
   "outputs": [
    {
     "name": "stdout",
     "output_type": "stream",
     "text": [
      "1.2386666666666666\n",
      "0.19316412956959936\n"
     ]
    }
   ],
   "source": [
    "#Estimation And Confidence Intervals\n",
    "\n",
    "import numpy as np\n",
    "\n",
    "data = [1.13, 1.55, 1.43, 0.92, 1.25, 1.36, 1.32, 0.85, 1.07, 1.48, 1.20, 1.33, 1.18, 1.22, 1.29]\n",
    "mean = np.mean(data)\n",
    "std_dev = np.std(data, ddof=1)\n",
    "print(mean)\n",
    "print(std_dev)\n"
   ]
  },
  {
   "cell_type": "code",
   "execution_count": 10,
   "id": "e211e16b-a4f0-4ee8-acdb-f79b1149854c",
   "metadata": {},
   "outputs": [
    {
     "data": {
      "text/plain": [
       "0.13302406799773742"
      ]
     },
     "execution_count": 10,
     "metadata": {},
     "output_type": "execute_result"
    }
   ],
   "source": [
    "import numpy as np\n",
    "\n",
    "data = [1.13, 1.55, 1.43, 0.92, 1.25, 1.36, 1.32, 0.85, 1.07, 1.48, 1.20, 1.33, 1.18, 1.22, 1.29]\n",
    "mean = np.mean(data)\n",
    "mean\n",
    "sigma = 0.2\n",
    "n = 15\n",
    "SEM = sigma / np.sqrt(n)\n",
    "SEM\n",
    "z_value = 2.576\n",
    "ME = z_value * SEM\n",
    "ME\n"
   ]
  },
  {
   "cell_type": "code",
   "execution_count": null,
   "id": "d3f051e1-f747-4fc2-a0a6-bd298a28be22",
   "metadata": {},
   "outputs": [],
   "source": []
  }
 ],
 "metadata": {
  "kernelspec": {
   "display_name": "Python 3 (ipykernel)",
   "language": "python",
   "name": "python3"
  },
  "language_info": {
   "codemirror_mode": {
    "name": "ipython",
    "version": 3
   },
   "file_extension": ".py",
   "mimetype": "text/x-python",
   "name": "python",
   "nbconvert_exporter": "python",
   "pygments_lexer": "ipython3",
   "version": "3.11.7"
  }
 },
 "nbformat": 4,
 "nbformat_minor": 5
}
